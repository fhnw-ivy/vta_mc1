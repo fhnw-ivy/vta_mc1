{
 "cells": [
  {
   "cell_type": "markdown",
   "source": [
    "# Mini Challenge\n",
    "## Gradient Descent"
   ],
   "metadata": {
    "collapsed": false
   }
  },
  {
   "cell_type": "markdown",
   "source": [
    "### Aufgabe 1.\n",
    "Laden Sie das MNIST-Dataset mithilfe des torchvision-Pakets (Verwenden Sie das torchvision\n",
    "Paket für diese Aufgabe) und verwenden Sie matplotlib, um sich einen Überblick über die Daten\n",
    "zu verschaffen. Beschreiben Sie das grundlegenden Eigenschaften des Datensets, z.B. wie viele\n",
    "und welche Daten es enthält."
   ],
   "metadata": {
    "collapsed": false
   }
  },
  {
   "cell_type": "code",
   "execution_count": 14,
   "outputs": [
    {
     "name": "stdout",
     "output_type": "stream",
     "text": [
      "Anzahl der Trainingsdaten: 60000\n",
      "Datentyp: <class 'PIL.Image.Image'>\n",
      "Größe des Bildes: (28, 28)\n"
     ]
    },
    {
     "data": {
      "text/plain": "<Figure size 640x480 with 9 Axes>",
      "image/png": "[encoded data removed]"
     },
     "metadata": {},
     "output_type": "display_data"
    }
   ],
   "source": [
    "import torchvision\n",
    "import matplotlib.pyplot as plt\n",
    "import numpy as np\n",
    "\n",
    "# Loading the MNIST dataset\n",
    "train_dataset = torchvision.datasets.MNIST(root='./data', train=True, transform=None, download=True)\n",
    "\n",
    "# Displaying information about the dataset\n",
    "print(\"Anzahl der Trainingsdaten:\", len(train_dataset))\n",
    "print(\"Datentyp:\", type(train_dataset[0][0]))\n",
    "print(\"Größe des Bildes:\", train_dataset[0][0].size)\n",
    "\n",
    "# Show some examples\n",
    "fig, axs = plt.subplots(3, 3)\n",
    "axs = axs.flatten()\n",
    "for i in range(9):\n",
    "    img, label = train_dataset[i]\n",
    "    axs[i].imshow(img, cmap='gray')\n",
    "    axs[i].set_title(str(label))\n",
    "    axs[i].set_xticks([])\n",
    "    axs[i].set_yticks([])\n",
    "\n",
    "fig.suptitle(\"MNIST-Datensatz\")\n",
    "plt.subplots_adjust(hspace=0.4)\n",
    "\n",
    "plt.show()"
   ],
   "metadata": {
    "collapsed": false
   }
  },
  {
   "cell_type": "markdown",
   "source": [
    "### Aufgabe 2.\n",
    "Erstellen Sie eine Klasse für ein lineares Layer mit beliebig vielen Knoten. Implementieren Sie die\n",
    "Methoden forward, backward und update mithilfe von numpy. Schreiben sie geeignete Unittests,\n",
    "um die Funktionsweise der Funktion zu prüfen."
   ],
   "metadata": {
    "collapsed": false
   }
  },
  {
   "cell_type": "code",
   "execution_count": null,
   "outputs": [],
   "source": [],
   "metadata": {
    "collapsed": false
   }
  },
  {
   "cell_type": "markdown",
   "source": [
    "### Aufgabe 3.\n",
    "Erstellen Sie ein neuronales Netzwerk in numpy mit einem Hidden Linear Layer und einem Output\n",
    "Knoten. Trainieren Sie das Netzwerk darauf, die Ziffer 4 korrekt zu identifizieren (d.h. der Output\n",
    "soll 1 für diese Ziffer und 0 für alle anderen Ziffern sein). Trainieren Sie das Netzwerk auf den\n",
    "Trainingsdaten und evaluieren Sie es anhand von Testdaten. Verwenden Sie eine geeignete Loss-\n",
    "Funktion sowie Accuracy-Funktion und geben Sie deren mathematische Definition an. Begründen\n",
    "Sie Ihre Wahl mit einer Abwägung der Vor- und Nachteile. Diskutieren Sie kurz weitere Optionen\n",
    "für Loss und Accuracy."
   ],
   "metadata": {
    "collapsed": false
   }
  },
  {
   "cell_type": "code",
   "execution_count": null,
   "outputs": [],
   "source": [],
   "metadata": {
    "collapsed": false
   }
  },
  {
   "cell_type": "markdown",
   "source": [
    "### Aufgabe 4.\n",
    "Trainieren Sie das Netzwerk mit verschiedenen Lernraten und Größen des Hidden Layers. Verfolgen\n",
    "Sie während des Trainings die Entwicklung der Loss- und Accuracy-Funktionen auf Trainingsund\n",
    "Testdatensätzen und entscheiden Sie, welche Wahl von Lernrate und Hidden Layer-Größe die\n",
    "besten Ergebnisse in geringster Zeit liefert."
   ],
   "metadata": {
    "collapsed": false
   }
  },
  {
   "cell_type": "code",
   "execution_count": null,
   "outputs": [],
   "source": [],
   "metadata": {
    "collapsed": false
   }
  },
  {
   "cell_type": "markdown",
   "source": [
    "### Aufgabe 5.\n",
    "Erweitern Sie das Netzwerk auf 3 Hidden Layer mit gleicher Größe und 10 Outputs. Das Ziel\n",
    "ist die korrekte Klassifizierung aller Ziffern. Verwenden Sie eine geeignete Loss-Funktion sowie\n",
    "Accuracy-Funktion und geben Sie deren mathematische Definition an. Begründen Sie Ihre Wahl\n",
    "und diskutieren Sie kurz weitere Möglichkeiten. Variieren Sie die Lernrate und die Größe der\n",
    "Hidden Layer und wählen Sie das beste Ergebnis aus."
   ],
   "metadata": {
    "collapsed": false
   }
  },
  {
   "cell_type": "code",
   "execution_count": null,
   "outputs": [],
   "source": [],
   "metadata": {
    "collapsed": false
   }
  }
 ],
 "metadata": {
  "kernelspec": {
   "display_name": "Python 3 (ipykernel)",
   "language": "python",
   "name": "python3"
  },
  "language_info": {
   "codemirror_mode": {
    "name": "ipython",
    "version": 3
   },
   "file_extension": ".py",
   "mimetype": "text/x-python",
   "name": "python",
   "nbconvert_exporter": "python",
   "pygments_lexer": "ipython3",
   "version": "3.10.7"
  }
 },
 "nbformat": 4,
 "nbformat_minor": 5
}

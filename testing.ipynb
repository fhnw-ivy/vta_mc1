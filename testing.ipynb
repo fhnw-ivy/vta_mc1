{
 "cells": [
  {
   "cell_type": "code",
   "execution_count": 1,
   "outputs": [],
   "source": [
    "from torchvision import datasets, transforms\n",
    "import matplotlib.pyplot as plt\n",
    "import numpy as np"
   ],
   "metadata": {
    "collapsed": false,
    "ExecuteTime": {
     "start_time": "2023-04-05T15:55:43.665231Z",
     "end_time": "2023-04-05T15:55:46.123582Z"
    }
   }
  },
  {
   "cell_type": "code",
   "execution_count": 2,
   "outputs": [],
   "source": [
    "\n",
    "transform = transforms.Compose([transforms.ToTensor(),\n",
    "                                transforms.Normalize((0.5,), (0.5,)),\n",
    "                                ])\n",
    "train_dataset = datasets.MNIST(root='./data', train=True, download=True, transform=transform)\n",
    "train_dataset_normalize = datasets.MNIST(root='./data', train=True, download=True, transform=transform)\n",
    "\n"
   ],
   "metadata": {
    "collapsed": false,
    "ExecuteTime": {
     "start_time": "2023-04-05T15:55:46.135945Z",
     "end_time": "2023-04-05T15:55:46.205304Z"
    }
   }
  },
  {
   "cell_type": "code",
   "execution_count": 3,
   "outputs": [
    {
     "name": "stdout",
     "output_type": "stream",
     "text": [
      "5\n",
      "[5]\n"
     ]
    }
   ],
   "source": [
    "print(train_dataset.targets.numpy()[0])\n",
    "y_train = train_dataset.targets.numpy().reshape(-1, 1)\n",
    "print(y_train[0])"
   ],
   "metadata": {
    "collapsed": false,
    "ExecuteTime": {
     "start_time": "2023-04-05T15:55:46.206169Z",
     "end_time": "2023-04-05T15:55:46.209196Z"
    }
   }
  },
  {
   "cell_type": "code",
   "execution_count": 4,
   "outputs": [
    {
     "data": {
      "text/plain": "<Figure size 1000x400 with 10 Axes>",
      "image/png": "[encoded data removed]"
     },
     "metadata": {},
     "output_type": "display_data"
    }
   ],
   "source": [
    "transform = transforms.Compose([transforms.ToTensor(),\n",
    "                                transforms.Normalize((0.5,), (0.5,)),\n",
    "                                ])\n",
    "train_dataset = datasets.MNIST(root='./data', train=True, download=True, transform=transform)\n",
    "test_dataset = datasets.MNIST(root='./data', train=False, download=True, transform=transform)\n",
    "\n",
    "fig, axes = plt.subplots(2, 5, figsize=(10, 4))\n",
    "for i, ax in enumerate(axes.ravel()):\n",
    "    image, label = train_dataset[i]\n",
    "    ax.imshow(image.squeeze().numpy(), cmap='gray')\n",
    "    ax.set_title(f'Label: {label}')\n",
    "plt.show()"
   ],
   "metadata": {
    "collapsed": false,
    "ExecuteTime": {
     "start_time": "2023-04-05T15:55:46.211174Z",
     "end_time": "2023-04-05T15:55:46.684842Z"
    }
   }
  },
  {
   "cell_type": "code",
   "execution_count": 5,
   "outputs": [],
   "source": [
    "class LinearLayer:\n",
    "    def __init__(self, input_size, output_size):\n",
    "        self.weights = np.random. randn(input_size, output_size) * 0.01\n",
    "        self.bias = np.zeros ((1, output_size))\n",
    "        self.weights_error = None\n",
    "        self.bias_error = None\n",
    "        self.input = None\n",
    "\n",
    "    def forward (self, x):\n",
    "        self.input = x\n",
    "        return np.dot(x, self.weights) + self.bias\n",
    "\n",
    "    def backward(self, output_error):\n",
    "        input_error = np.dot(output_error, self.weights.T)\n",
    "        self.weights_error = np.dot(self.input.T, output_error)\n",
    "        self.bias_error = np.sum(output_error, axis=0, keepdims=True)\n",
    "        return input_error\n",
    "\n",
    "    def update(self, learning_rate):\n",
    "        self.weights -= learning_rate * self.weights_error\n",
    "        self.bias -= learning_rate * self.bias_error"
   ],
   "metadata": {
    "collapsed": false,
    "ExecuteTime": {
     "start_time": "2023-04-05T15:55:46.686786Z",
     "end_time": "2023-04-05T15:55:46.688369Z"
    }
   }
  },
  {
   "cell_type": "code",
   "execution_count": 18,
   "outputs": [],
   "source": [
    "def softmax(x):\n",
    "    return np.exp(x) / np.sum(np.exp(x), axis=1, keepdims=True)\n",
    "\n",
    "def binary_cross_entropy(y_pred, y_true):\n",
    "    eps = 1e-15\n",
    "    y_pred = np.clip(y_pred, eps, 1-eps) # clip y_pred to prevent log(0) or log(1)\n",
    "    loss = -(y_true * np.log(y_pred) + (1 - y_true) * np.log(1 - y_pred)).mean()\n",
    "    return loss\n",
    "\n",
    "def binary_cross_entropy_grad(y_pred, y_true):\n",
    "    eps = 1e-15\n",
    "    y_pred = np.clip(y_pred, eps, 1-eps) # clip y_pred to prevent division by 0\n",
    "    grad = (y_pred - y_true) / (y_pred * (1 - y_pred) + eps) # add eps to prevent division by 0\n",
    "    return grad\n",
    "def relu(x):\n",
    "    return np.maximum(0, x)\n",
    "\n",
    "def relu_grad(x):\n",
    "    return np.where(x > 0, 1, 0)\n",
    "\n",
    "def relu_derivative(x):\n",
    "    return np.where(x > 0, 1, 0)\n",
    "def mse(y_pred, y_true):\n",
    "    batch_size = y_pred.shape[0]\n",
    "    loss = np.sum((y_pred - y_true)**2) / batch_size\n",
    "    return loss\n",
    "\n",
    "def mse_grad(y_pred, y_true):\n",
    "    batch_size = y_pred.shape[0]\n",
    "    grad = 2 * (y_pred - y_true) / batch_size\n",
    "    return grad\n"
   ],
   "metadata": {
    "collapsed": false,
    "ExecuteTime": {
     "start_time": "2023-04-05T16:10:42.934614Z",
     "end_time": "2023-04-05T16:10:42.938719Z"
    }
   }
  },
  {
   "cell_type": "code",
   "execution_count": 13,
   "outputs": [],
   "source": [
    "class NeuralNetwork:\n",
    "    def __init__(self, input_size, hidden_size, output_size):\n",
    "        self.hidden_layer = LinearLayer(input_size, hidden_size)\n",
    "        self.output_layer = LinearLayer(hidden_size, output_size)\n",
    "\n",
    "    def forward(self, x):\n",
    "        hidden_layer_output = self.hidden_layer.forward(x)\n",
    "        hidden_layer_activation = relu(hidden_layer_output)\n",
    "        output_layer_output = self.output_layer.forward(hidden_layer_activation)\n",
    "        output_layer_activation = softmax(output_layer_output)\n",
    "        return output_layer_activation, hidden_layer_activation\n",
    "\n",
    "    def backward(self, x, y_true, y_pred, learning_rate) :\n",
    "        output_error = y_pred - y_true\n",
    "        grad_output = relu_grad(self.h2) * output_error\n",
    "\n",
    "        hidden_error = self.output_layer.backward(output_error)\n",
    "\n",
    "        self.output_layer.update(learning_rate)\n",
    "\n",
    "\n",
    "    def train(self, X, y, learning_rate=0.1, epochs=19):\n",
    "        for epoch in range(epochs) :\n",
    "            for i in range(len(X)):\n",
    "                y_prediction, hidden_layer_activation = self.forward(X[i])\n",
    "                prediction_guess = np.zeros((1, 10))\n",
    "                prediction_guess[0][y[i]] = 1\n",
    "                self.backward(X[i], prediction_guess, y_prediction, learning_rate)\n",
    "            print(f'Epoch: {epoch + 1}, Loss: {np.mean(binary_cross_entropy_grad(prediction_guess, y_prediction))}')\n",
    "\n"
   ],
   "metadata": {
    "collapsed": false,
    "ExecuteTime": {
     "start_time": "2023-04-05T15:58:39.294163Z",
     "end_time": "2023-04-05T15:58:39.368393Z"
    }
   }
  },
  {
   "cell_type": "code",
   "execution_count": 14,
   "outputs": [
    {
     "name": "stdout",
     "output_type": "stream",
     "text": [
      "[[ 0.0204551   0.01158226]\n",
      " [ 0.01334046 -0.01209812]\n",
      " [-0.01483823 -0.00771277]]\n",
      "[[0. 0.]]\n"
     ]
    }
   ],
   "source": [
    "layer = LinearLayer(3, 2)\n",
    "print(layer.weights)\n",
    "print(layer.bias)\n",
    "assert layer.weights.shape == (3, 2)\n"
   ],
   "metadata": {
    "collapsed": false,
    "ExecuteTime": {
     "start_time": "2023-04-05T15:58:39.376667Z",
     "end_time": "2023-04-05T15:58:39.381913Z"
    }
   }
  },
  {
   "cell_type": "code",
   "execution_count": 15,
   "outputs": [
    {
     "name": "stdout",
     "output_type": "stream",
     "text": [
      "Epoch: 7, Loss: 1.6743855436722175\n",
      "Epoch: 8, Loss: 1.5224506629826782\n",
      "Epoch: 9, Loss: 1.4026307057935448\n",
      "Epoch: 10, Loss: 1.3063764617554825\n",
      "Epoch: 1, Loss: 13620560748.465626\n",
      "Epoch: 2, Loss: 12091450405.1625\n",
      "Epoch: 3, Loss: 11085246342.203125\n",
      "Epoch: 4, Loss: 10346799198.35625\n",
      "Epoch: 5, Loss: 9782039893.040625\n",
      "Epoch: 6, Loss: 9338825977.69375\n",
      "Epoch: 7, Loss: 8983607094.4125\n",
      "Epoch: 8, Loss: 8693528121.771875\n",
      "Epoch: 9, Loss: 8452560247.425\n",
      "Epoch: 10, Loss: 8249233336.6953125\n"
     ]
    }
   ],
   "source": [
    "# real code\n",
    "# reshape the data so that it is 784x1 instead of 28x28\n",
    "X_train = train_dataset.data.numpy().reshape(-1, 784) / 255\n",
    "# reshape the targets to be a column vector\n",
    "y_train = train_dataset.targets.numpy()\n",
    "\n",
    "\n",
    "# reshape the data so that it is 784x1 instead of 28x28\n",
    "X_test = test_dataset.data.numpy().reshape(-1, 784) / 255\n",
    "# reshape the targets to be a column vector\n",
    "y_test = test_dataset.targets.numpy().reshape(-1, 1)\n",
    "\n",
    "# input size is a 28x28 image, so 784 or 1 for each pixel\n",
    "# output size is 10, one for each digit 0-9\n",
    "# hidden size is 64, you can change this to see how it affects the model\n",
    "model = NeuralNetwork(784, 128, 10)\n",
    "\n",
    "# train the model\n",
    "model.train(X_train, y_train, learning_rate=0.1, epochs=15)"
   ],
   "metadata": {
    "collapsed": false,
    "ExecuteTime": {
     "start_time": "2023-04-05T15:58:37.075410Z",
     "end_time": "2023-04-05T16:00:57.899735Z"
    }
   }
  },
  {
   "cell_type": "code",
   "execution_count": 17,
   "outputs": [
    {
     "name": "stdout",
     "output_type": "stream",
     "text": [
      "(10000, 10)\n",
      "440\n",
      "Accuracy: 0.0%\n",
      "Accuracy: 87.29%\n"
     ]
    }
   ],
   "source": [
    "# test the model\n",
    "correct = 0\n",
    "total = 0\n",
    "\n",
    "A2, _ = model.forward(X_test)\n",
    "\n",
    "print(A2.shape)\n",
    "\n",
    "# accuracy\n",
    "print(np.argmax(A2.T))\n",
    "accuracy = np.sum(np.argmax(A2.T) == y_test) / len(y_test)\n",
    "print(f'Accuracy: {accuracy * 100}%')\n",
    "\n",
    "for i in range(len(X_test)):\n",
    "    y_prediction, _ = model.forward(X_test[i])\n",
    "    if np.argmax(y_prediction) == y_test[i]:\n",
    "        correct += 1\n",
    "    total += 1\n",
    "\n",
    "print(f'Accuracy: {correct / total * 100}%')"
   ],
   "metadata": {
    "collapsed": false,
    "ExecuteTime": {
     "start_time": "2023-04-05T16:01:12.736130Z",
     "end_time": "2023-04-05T16:01:14.323102Z"
    }
   }
  },
  {
   "cell_type": "code",
   "execution_count": 10,
   "outputs": [],
   "source": [],
   "metadata": {
    "collapsed": false,
    "ExecuteTime": {
     "start_time": "2023-04-05T15:56:02.460578Z",
     "end_time": "2023-04-05T15:56:02.465759Z"
    }
   }
  }
 ],
 "metadata": {
  "kernelspec": {
   "display_name": "Python 3",
   "language": "python",
   "name": "python3"
  },
  "language_info": {
   "codemirror_mode": {
    "name": "ipython",
    "version": 2
   },
   "file_extension": ".py",
   "mimetype": "text/x-python",
   "name": "python",
   "nbconvert_exporter": "python",
   "pygments_lexer": "ipython2",
   "version": "2.7.6"
  }
 },
 "nbformat": 4,
 "nbformat_minor": 0
}

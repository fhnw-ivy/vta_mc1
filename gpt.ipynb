{
 "cells": [
  {
   "cell_type": "code",
   "execution_count": 1,
   "metadata": {},
   "outputs": [],
   "source": [
    "import torchvision.datasets as datasets\n",
    "import torchvision.transforms as transforms\n",
    "import matplotlib.pyplot as plt\n",
    "import numpy as np"
   ]
  },
  {
   "cell_type": "code",
   "execution_count": 2,
   "metadata": {},
   "outputs": [
    {
     "data": {
      "text/plain": [
       "((60000, 784), (10000, 784), (60000,), (10000,))"
      ]
     },
     "execution_count": 2,
     "metadata": {},
     "output_type": "execute_result"
    }
   ],
   "source": [
    "# Define transformations to be applied to the data\n",
    "transform = transforms.Compose([\n",
    "    transforms.ToTensor(),\n",
    "    transforms.Normalize((0.5,), (0.5,))\n",
    "])\n",
    "\n",
    "# Load the MNIST dataset\n",
    "train_set = datasets.MNIST(root='./data', train=True, download=True, transform=transform)\n",
    "test_set = datasets.MNIST(root='./data', train=False, download=True, transform=transform)\n",
    "\n",
    "# Extract the data and labels from the datasets\n",
    "X_train, y_train = train_set.data.numpy(), train_set.targets.numpy()\n",
    "X_test, y_test = test_set.data.numpy(), test_set.targets.numpy()\n",
    "\n",
    "# Reshape the data to be of size [N x 784]\n",
    "X_train = X_train.reshape(X_train.shape[0], -1)\n",
    "X_test = X_test.reshape(X_test.shape[0], -1)\n",
    "\n",
    "# Normalize the data to be between 0 and 1\n",
    "X_train = X_train / 255.0\n",
    "X_test = X_test / 255.0\n",
    "\n",
    "X_train.shape, X_test.shape, y_train.shape, y_test.shape"
   ]
  },
  {
   "cell_type": "code",
   "execution_count": 3,
   "metadata": {},
   "outputs": [
    {
     "data": {
      "image/png": "[encoded data removed]",
      "text/plain": [
       "<Figure size 1000x500 with 10 Axes>"
      ]
     },
     "metadata": {},
     "output_type": "display_data"
    }
   ],
   "source": [
    "classes = np.unique(y_train)\n",
    "\n",
    "# Plot the images\n",
    "fig, axes = plt.subplots(2, 5, figsize=(10, 5))\n",
    "for i, ax in enumerate(axes.flat):\n",
    "    ax.imshow(X_train[y_train == classes[i]][0].reshape(28, 28), cmap='gray')\n",
    "    ax.set_title(f\"Class: {classes[i]}\")\n",
    "    ax.axis('off')\n",
    "\n",
    "plt.show()"
   ]
  },
  {
   "cell_type": "code",
   "execution_count": 4,
   "metadata": {},
   "outputs": [
    {
     "name": "stdout",
     "output_type": "stream",
     "text": [
      "Number of training examples:  60000\n",
      "Number of testing examples:  10000\n",
      "Each image is of size:  784\n",
      "There are 10 classes: [0 1 2 3 4 5 6 7 8 9]\n",
      "The data is of type:  float64\n",
      "The labels are of type:  int64\n",
      "The range of the pixel values is [0.0, 1.0]\n"
     ]
    }
   ],
   "source": [
    "print('Number of training examples: ', X_train.shape[0])\n",
    "print('Number of testing examples: ', X_test.shape[0])\n",
    "print('Each image is of size: ', X_train.shape[1])\n",
    "print('There are {} classes: {}'.format(len(classes), classes))\n",
    "print('The data is of type: ', X_train.dtype)\n",
    "print('The labels are of type: ', y_train.dtype)\n",
    "print('The range of the pixel values is [{}, {}]'.format(np.min(X_train), np.max(X_train)))"
   ]
  },
  {
   "cell_type": "code",
   "execution_count": 5,
   "metadata": {},
   "outputs": [],
   "source": [
    "class LinearLayer():\n",
    "    def __init__(self, input_size, output_size):\n",
    "        self.input_size = input_size\n",
    "        self.output_size = output_size\n",
    "        self.weights = np.random.randn(input_size, output_size) * 0.01\n",
    "        self.bias = np.zeros((1, output_size))\n",
    "\n",
    "    def forward(self, x):\n",
    "        self.x = x\n",
    "        return np.dot(x, self.weights) + self.bias\n",
    "\n",
    "    def backward(self, grad_output):\n",
    "        self.weights_grad = np.dot(self.x.T, grad_output)\n",
    "        self.bias_grad = np.sum(grad_output, axis=0, keepdims=True)\n",
    "        return np.dot(grad_output, self.weights.T)\n",
    "\n",
    "    def update(self, lr):\n",
    "        self.weights -= lr * self.weights_grad\n",
    "        self.bias -= lr * self.bias_grad"
   ]
  },
  {
   "cell_type": "code",
   "execution_count": 6,
   "metadata": {},
   "outputs": [
    {
     "name": "stderr",
     "output_type": "stream",
     "text": [
      "test_backward (__main__.TestLinearLayer.test_backward) ... ok\n",
      "test_forward (__main__.TestLinearLayer.test_forward) ... ok\n",
      "\n",
      "----------------------------------------------------------------------\n",
      "Ran 2 tests in 0.002s\n",
      "\n",
      "OK\n"
     ]
    },
    {
     "data": {
      "text/plain": [
       "<unittest.main.TestProgram at 0x28dae2d90>"
      ]
     },
     "execution_count": 6,
     "metadata": {},
     "output_type": "execute_result"
    }
   ],
   "source": [
    "import unittest\n",
    "\n",
    "class TestLinearLayer(unittest.TestCase):\n",
    "    def setUp(self):\n",
    "        self.input_size = 10\n",
    "        self.output_size = 5\n",
    "        self.linear_layer = LinearLayer(self.input_size, self.output_size)\n",
    "\n",
    "    def test_forward(self):\n",
    "        x = np.random.randn(1, self.input_size)\n",
    "        output = self.linear_layer.forward(x)\n",
    "        self.assertEqual(output.shape, (1, self.output_size))\n",
    "\n",
    "    def test_backward(self):\n",
    "        x = np.random.randn(1, self.input_size)\n",
    "        output = self.linear_layer.forward(x)\n",
    "        grad_output = np.random.randn(1, self.output_size)\n",
    "        grad_input = self.linear_layer.backward(grad_output)\n",
    "        self.assertEqual(grad_input.shape, (1, self.input_size))\n",
    "\n",
    "unittest.main(argv=[''], verbosity=2, exit=False)"
   ]
  },
  {
   "cell_type": "code",
   "execution_count": 7,
   "metadata": {},
   "outputs": [],
   "source": [
    "# Helper functions\n",
    "def relu(x):\n",
    "    return np.maximum(0, x)\n",
    "\n",
    "def relu_grad(x):\n",
    "    return x > 0\n",
    "\n",
    "def sigmoid(x):\n",
    "    x = np.clip(x, -500, 500) # clip x to prevent overflow\n",
    "    return 1 / (1 + np.exp(-x))\n",
    "\n",
    "def sigmoid_grad(x):\n",
    "    return sigmoid(x) * (1 - sigmoid(x))\n",
    "\n",
    "def binary_cross_entropy(y_pred, y_true):\n",
    "    eps = 1e-15\n",
    "    y_pred = np.clip(y_pred, eps, 1-eps) # clip y_pred to prevent log(0) or log(1)\n",
    "    loss = -(y_true * np.log(y_pred) + (1 - y_true) * np.log(1 - y_pred)).mean()\n",
    "    return loss\n",
    "\n",
    "def binary_cross_entropy_grad(y_pred, y_true):\n",
    "    eps = 1e-15\n",
    "    y_pred = np.clip(y_pred, eps, 1-eps) # clip y_pred to prevent division by 0\n",
    "    grad = (y_pred - y_true) / (y_pred * (1 - y_pred) + eps) # add eps to prevent division by 0\n",
    "    return grad"
   ]
  },
  {
   "cell_type": "code",
   "execution_count": 8,
   "metadata": {},
   "outputs": [],
   "source": [
    "class SingleLayerNetwork():\n",
    "    def __init__(self, input_size, hidden_size, output_size):\n",
    "        self.input_size = input_size\n",
    "        self.hidden_size = hidden_size\n",
    "        self.output_size = output_size\n",
    "        self.linear1 = LinearLayer(input_size, hidden_size)\n",
    "        self.linear2 = LinearLayer(hidden_size, output_size)\n",
    "\n",
    "    def forward(self, x):\n",
    "        self.x = x\n",
    "        self.h = relu(self.linear1.forward(x))\n",
    "        self.y_pred = sigmoid(self.linear2.forward(self.h))\n",
    "        return self.y_pred\n",
    "\n",
    "    def backward(self, y_true):\n",
    "        # reshape y_pred to be the same shape as y_true\n",
    "        y_true = y_true.reshape(-1, 1)\n",
    "        self.y_pred = self.y_pred.reshape(-1, 1)\n",
    "\n",
    "        grad_output = binary_cross_entropy_grad(self.y_pred, y_true)\n",
    "        grad_output = sigmoid_grad(self.y_pred) * grad_output\n",
    "        grad_output = self.linear2.backward(grad_output)\n",
    "        grad_output = relu_grad(self.h) * grad_output\n",
    "        grad_output = self.linear1.backward(grad_output)\n",
    "        return grad_output\n",
    "\n",
    "    def update(self, lr):\n",
    "        self.linear1.update(lr)\n",
    "        self.linear2.update(lr)\n",
    "\n",
    "    def train(self, X, y, lr, epochs, batch_size):\n",
    "        for epoch in range(epochs):\n",
    "            loss_list = []\n",
    "            for i in range(0, len(X), batch_size):\n",
    "                # create random batch with batch_size\n",
    "                batch = np.random.choice(len(X), batch_size)\n",
    "                X_batch = X[batch]\n",
    "                y_batch = y[batch]\n",
    "                \n",
    "                # Forward pass\n",
    "                y_pred = self.forward(X_batch)\n",
    "\n",
    "                # Backward pass\n",
    "                loss = binary_cross_entropy(y_pred, y_batch)\n",
    "                loss_list.append(loss)\n",
    "                self.backward(y_batch)\n",
    "                self.update(lr)\n",
    "\n",
    "            accuracy = self.evaluate(X, y)\n",
    "            loss = np.mean(loss_list)\n",
    "            print(f\"Epoch {epoch+1} - Loss: {loss:.4f} - Accuracy: {accuracy:.4f}\")\n",
    "\n",
    "    def predict(self, X):\n",
    "        y_pred = self.forward(X)\n",
    "        return np.argmax(y_pred, axis=1)\n",
    "\n",
    "    def evaluate(self, X, y):\n",
    "        y_pred = self.predict(X)\n",
    "        y_pred = np.round(y_pred)\n",
    "        return np.mean(y_pred == y)"
   ]
  },
  {
   "cell_type": "code",
   "execution_count": 9,
   "metadata": {},
   "outputs": [
    {
     "name": "stdout",
     "output_type": "stream",
     "text": [
      "Epoch 1 - Loss: 6.6283 - Accuracy: 0.9026\n",
      "Epoch 2 - Loss: 6.9815 - Accuracy: 0.9026\n",
      "Epoch 3 - Loss: 6.6070 - Accuracy: 0.9026\n",
      "Epoch 4 - Loss: 6.6791 - Accuracy: 0.9026\n",
      "Epoch 5 - Loss: 6.5441 - Accuracy: 0.9026\n",
      "Epoch 6 - Loss: 6.9283 - Accuracy: 0.9026\n",
      "Epoch 7 - Loss: 6.6448 - Accuracy: 0.9026\n",
      "Epoch 8 - Loss: 6.6791 - Accuracy: 0.9026\n",
      "Epoch 9 - Loss: 6.6796 - Accuracy: 0.9026\n",
      "Epoch 10 - Loss: 6.9226 - Accuracy: 0.9026\n"
     ]
    }
   ],
   "source": [
    "y_train_4 = (y_train == 4).astype(int)\n",
    "y_test_4 = (y_test == 4).astype(int)\n",
    "\n",
    "# Train the network\n",
    "network = SingleLayerNetwork(input_size=784, hidden_size=128, output_size=1)\n",
    "network.train(X_train, y_train_4, lr=0.1, epochs=10, batch_size=512)"
   ]
  },
  {
   "cell_type": "code",
   "execution_count": 10,
   "metadata": {},
   "outputs": [],
   "source": [
    "def cross_entropy(y_pred, y_true):\n",
    "    eps = 1e-15\n",
    "    y_pred = np.clip(y_pred, eps, 1-eps) # clip y_pred to prevent log(0) or log(1)\n",
    "    loss = -(y_true * np.log(y_pred)).sum(axis=1).mean()\n",
    "    return loss\n",
    "\n",
    "def cross_entropy_grad(y_pred, y_true):\n",
    "    eps = 1e-15\n",
    "    y_pred = np.clip(y_pred, eps, 1-eps) # clip y_pred to prevent division by 0\n",
    "    grad = y_pred - y_true\n",
    "    return grad\n",
    "\n",
    "def mse(y_pred, y_true):\n",
    "    loss = ((y_pred - y_true) ** 2).mean()\n",
    "    return loss\n",
    "\n",
    "def mse_grad(y_pred, y_true):\n",
    "    grad = 2 * (y_pred - y_true) / y_pred.size\n",
    "    return grad\n",
    "\n",
    "def softmax(x):\n",
    "    x = x - np.max(x, axis=1, keepdims=True) # prevent overflow\n",
    "    x = np.exp(x)\n",
    "    x = x / np.sum(x, axis=1, keepdims=True)\n",
    "    return x\n",
    "\n",
    "def softmax_grad(x):\n",
    "    return softmax(x) * (1 - softmax(x))\n",
    "\n",
    "def one_hot_encode(y):\n",
    "    y_one_hot = np.zeros((len(y), 10))\n",
    "    y_one_hot[np.arange(len(y)), y] = 1\n",
    "    return y_one_hot"
   ]
  },
  {
   "attachments": {},
   "cell_type": "markdown",
   "metadata": {},
   "source": [
    "### Gradient of the Cross-Entropy loss function\n",
    "The reason why the `cross_entropy_grad` function uses the difference between the predicted probabilities and the true labels, instead of the negative of the gradient of the cross-entropy loss with respect to the predicted probabilities, is that they are equivalent up to a constant factor.\n",
    "\n",
    "Let's first consider the gradient of the cross-entropy loss with respect to the predicted logits, denoted as $\\mathbf{z}$. The logits are related to the predicted probabilities via the softmax function:\n",
    "\n",
    "$$\n",
    "y_{i} = \\frac{e^{z_{i}}}{\\sum_{j} e^{z_{j}}}\n",
    "$$\n",
    "\n",
    "Taking the partial derivative of $\\mathcal{L}$ with respect to $z_{j}$, we have:\n",
    "\n",
    "$$\n",
    "\\frac{\\partial \\mathcal{L}}{\\partial z_{j}} = \\sum_{i} \\frac{\\partial \\mathcal{L}}{\\partial y_{i}} \\frac{\\partial y_{i}}{\\partial z_{j}}\n",
    "$$\n",
    "\n",
    "Using the chain rule, we have:\n",
    "\n",
    "$$\n",
    "\\frac{\\partial y_{i}}{\\partial z_{j}} = y_{i} (\\delta_{ij} - y_{j})\n",
    "$$\n",
    "\n",
    "where $\\delta_{ij}$ is the Kronecker delta function that is equal to 1 if $i = j$ and 0 otherwise. Substituting this expression into the above equation, we obtain:\n",
    "\n",
    "$$\n",
    "\\frac{\\partial \\mathcal{L}}{\\partial z_{j}} = \\sum_{i} (\\delta_{ij} - y_{j}) t_{i}\n",
    "$$\n",
    "\n",
    "This expression is equivalent to the difference between the predicted probabilities and the true labels. To see this, note that the predicted probabilities can be written as:\n",
    "\n",
    "$$\n",
    "y_{j} = \\frac{e^{z_{j}}}{\\sum_{k} e^{z_{k}}}\n",
    "$$\n",
    "\n",
    "Taking the derivative of $y_{j}$ with respect to $z_{j}$, we have:\n",
    "\n",
    "$$\n",
    "\\frac{\\partial y_{j}}{\\partial z_{j}} = y_{j} (1 - y_{j})\n",
    "$$\n",
    "\n",
    "Substituting this expression into the gradient expression, we obtain:\n",
    "\n",
    "$$\n",
    "\\frac{\\partial \\mathcal{L}}{\\partial z_{j}} = y_{j} - t_{j}\n",
    "$$\n",
    "\n",
    "which is the difference between the predicted probabilities and the true labels. Thus, the `cross_entropy_grad` function is equivalent to the negative of the gradient of the cross-entropy loss with respect to the predicted probabilities, up to a constant factor.\n",
    "\n"
   ]
  },
  {
   "cell_type": "code",
   "execution_count": 11,
   "metadata": {},
   "outputs": [],
   "source": [
    "class MultiLayerNetwork():\n",
    "    def __init__(self, input_size, hidden_size, output_size):\n",
    "        self.input_size = input_size\n",
    "        self.hidden_size = hidden_size\n",
    "        self.output_size = output_size\n",
    "        self.linear1 = LinearLayer(input_size, hidden_size)\n",
    "        self.linear2 = LinearLayer(hidden_size, hidden_size)\n",
    "        self.linear3 = LinearLayer(hidden_size, output_size)\n",
    "\n",
    "    def forward(self, x):\n",
    "        self.x = x\n",
    "        self.h1 = relu(self.linear1.forward(x))\n",
    "        self.h2 = relu(self.linear2.forward(self.h1))\n",
    "        self.y_pred = softmax(self.linear3.forward(self.h2))\n",
    "        return self.y_pred\n",
    "\n",
    "    def backward(self, y_true):\n",
    "        grad_output = cross_entropy_grad(self.y_pred, y_true)\n",
    "        grad_output = softmax_grad(self.y_pred) * grad_output\n",
    "        grad_output = self.linear3.backward(grad_output)\n",
    "        grad_output = relu_grad(self.h2) * grad_output\n",
    "        grad_output = self.linear2.backward(grad_output)\n",
    "        grad_output = relu_grad(self.h1) * grad_output\n",
    "        grad_output = self.linear1.backward(grad_output)\n",
    "        return grad_output\n",
    "\n",
    "    def update(self, lr):\n",
    "        self.linear1.update(lr)\n",
    "        self.linear2.update(lr)\n",
    "        self.linear3.update(lr)\n",
    "\n",
    "    def train(self, X, y, lr, epochs, batch_size):\n",
    "        for epoch in range(epochs):\n",
    "            loss_list = []\n",
    "            for i in range(0, len(X), batch_size):\n",
    "                # create random batch with batch_size\n",
    "                batch = np.random.choice(len(X), batch_size)\n",
    "                X_batch = X[batch]\n",
    "                y_batch = y[batch]\n",
    "                \n",
    "                # Forward pass\n",
    "                y_pred = self.forward(X_batch)\n",
    "\n",
    "                # Backward pass\n",
    "                loss = cross_entropy(y_pred, y_batch)\n",
    "                loss_list.append(loss)\n",
    "                self.backward(y_batch)\n",
    "                self.update(lr)\n",
    "\n",
    "            accuracy = self.evaluate(X, y)\n",
    "            loss = np.mean(loss_list)\n",
    "            print(f\"Epoch {epoch+1} - Loss: {loss:.4f} - Accuracy: {accuracy:.4f}\")\n",
    "\n",
    "    def predict(self, X):\n",
    "        y_pred = self.forward(X)\n",
    "        return np.argmax(y_pred, axis=1)\n",
    "\n",
    "    def evaluate(self, X, y):\n",
    "        y_pred = self.predict(X)\n",
    "        y = np.argmax(y, axis=1)\n",
    "        return np.mean(y_pred == y)"
   ]
  },
  {
   "cell_type": "code",
   "execution_count": 12,
   "metadata": {},
   "outputs": [
    {
     "ename": "KeyboardInterrupt",
     "evalue": "",
     "output_type": "error",
     "traceback": [
      "\u001b[0;31m---------------------------------------------------------------------------\u001b[0m",
      "\u001b[0;31mKeyboardInterrupt\u001b[0m                         Traceback (most recent call last)",
      "Cell \u001b[0;32mIn[12], line 6\u001b[0m\n\u001b[1;32m      4\u001b[0m \u001b[39m# one hot encode the labels\u001b[39;00m\n\u001b[1;32m      5\u001b[0m y_train_one_hot \u001b[39m=\u001b[39m one_hot_encode(y_train)\n\u001b[0;32m----> 6\u001b[0m network\u001b[39m.\u001b[39;49mtrain(X_train, y_train_one_hot, lr\u001b[39m=\u001b[39;49m\u001b[39m0.01\u001b[39;49m, epochs\u001b[39m=\u001b[39;49m\u001b[39m10\u001b[39;49m, batch_size\u001b[39m=\u001b[39;49m\u001b[39m46\u001b[39;49m)\n",
      "Cell \u001b[0;32mIn[11], line 42\u001b[0m, in \u001b[0;36mMultiLayerNetwork.train\u001b[0;34m(self, X, y, lr, epochs, batch_size)\u001b[0m\n\u001b[1;32m     39\u001b[0m y_batch \u001b[39m=\u001b[39m y[batch]\n\u001b[1;32m     41\u001b[0m \u001b[39m# Forward pass\u001b[39;00m\n\u001b[0;32m---> 42\u001b[0m y_pred \u001b[39m=\u001b[39m \u001b[39mself\u001b[39;49m\u001b[39m.\u001b[39;49mforward(X_batch)\n\u001b[1;32m     44\u001b[0m \u001b[39m# Backward pass\u001b[39;00m\n\u001b[1;32m     45\u001b[0m loss \u001b[39m=\u001b[39m cross_entropy(y_pred, y_batch)\n",
      "Cell \u001b[0;32mIn[11], line 12\u001b[0m, in \u001b[0;36mMultiLayerNetwork.forward\u001b[0;34m(self, x)\u001b[0m\n\u001b[1;32m     10\u001b[0m \u001b[39mdef\u001b[39;00m \u001b[39mforward\u001b[39m(\u001b[39mself\u001b[39m, x):\n\u001b[1;32m     11\u001b[0m     \u001b[39mself\u001b[39m\u001b[39m.\u001b[39mx \u001b[39m=\u001b[39m x\n\u001b[0;32m---> 12\u001b[0m     \u001b[39mself\u001b[39m\u001b[39m.\u001b[39mh1 \u001b[39m=\u001b[39m relu(\u001b[39mself\u001b[39;49m\u001b[39m.\u001b[39;49mlinear1\u001b[39m.\u001b[39;49mforward(x))\n\u001b[1;32m     13\u001b[0m     \u001b[39mself\u001b[39m\u001b[39m.\u001b[39mh2 \u001b[39m=\u001b[39m relu(\u001b[39mself\u001b[39m\u001b[39m.\u001b[39mlinear2\u001b[39m.\u001b[39mforward(\u001b[39mself\u001b[39m\u001b[39m.\u001b[39mh1))\n\u001b[1;32m     14\u001b[0m     \u001b[39mself\u001b[39m\u001b[39m.\u001b[39my_pred \u001b[39m=\u001b[39m softmax(\u001b[39mself\u001b[39m\u001b[39m.\u001b[39mlinear3\u001b[39m.\u001b[39mforward(\u001b[39mself\u001b[39m\u001b[39m.\u001b[39mh2))\n",
      "Cell \u001b[0;32mIn[5], line 10\u001b[0m, in \u001b[0;36mLinearLayer.forward\u001b[0;34m(self, x)\u001b[0m\n\u001b[1;32m      8\u001b[0m \u001b[39mdef\u001b[39;00m \u001b[39mforward\u001b[39m(\u001b[39mself\u001b[39m, x):\n\u001b[1;32m      9\u001b[0m     \u001b[39mself\u001b[39m\u001b[39m.\u001b[39mx \u001b[39m=\u001b[39m x\n\u001b[0;32m---> 10\u001b[0m     \u001b[39mreturn\u001b[39;00m np\u001b[39m.\u001b[39;49mdot(x, \u001b[39mself\u001b[39;49m\u001b[39m.\u001b[39;49mweights) \u001b[39m+\u001b[39m \u001b[39mself\u001b[39m\u001b[39m.\u001b[39mbias\n",
      "File \u001b[0;32m<__array_function__ internals>:200\u001b[0m, in \u001b[0;36mdot\u001b[0;34m(*args, **kwargs)\u001b[0m\n",
      "\u001b[0;31mKeyboardInterrupt\u001b[0m: "
     ]
    }
   ],
   "source": [
    "# train the network\n",
    "network = MultiLayerNetwork(input_size=784, hidden_size=256, output_size=10)\n",
    "\n",
    "# one hot encode the labels\n",
    "y_train_one_hot = one_hot_encode(y_train)\n",
    "network.train(X_train, y_train_one_hot, lr=0.01, epochs=10, batch_size=46)"
   ]
  },
  {
   "cell_type": "code",
   "execution_count": null,
   "metadata": {},
   "outputs": [],
   "source": [
    "# evaluate the network on the test set\n",
    "print(f\"Accuracy: {network.evaluate(X_test, one_hot_encode(y_test)):.4f}\")"
   ]
  },
  {
   "cell_type": "code",
   "execution_count": null,
   "metadata": {},
   "outputs": [],
   "source": [
    "# plot 10 random images from the test set with their predicted labels\n",
    "fig, axes = plt.subplots(2, 5, figsize=(10, 5))\n",
    "for i, ax in enumerate(axes.flatten()):\n",
    "    idx = np.random.choice(len(X_test))\n",
    "    ax.imshow(X_test[idx].reshape(28, 28), cmap=\"gray\")\n",
    "    ax.set_title(f\"Prediction: {network.predict(X_test[idx:idx+1])[0]}\")\n",
    "    ax.axis(\"off\")\n",
    "plt.show()\n"
   ]
  }
 ],
 "metadata": {
  "kernelspec": {
   "display_name": "venv",
   "language": "python",
   "name": "python3"
  },
  "language_info": {
   "codemirror_mode": {
    "name": "ipython",
    "version": 3
   },
   "file_extension": ".py",
   "mimetype": "text/x-python",
   "name": "python",
   "nbconvert_exporter": "python",
   "pygments_lexer": "ipython3",
   "version": "3.11.2"
  },
  "orig_nbformat": 4
 },
 "nbformat": 4,
 "nbformat_minor": 2
}

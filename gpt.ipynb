{
 "cells": [
  {
   "cell_type": "code",
   "source": [
    "import torchvision.datasets as datasets\n",
    "import torchvision.transforms as transforms\n",
    "import matplotlib.pyplot as plt\n",
    "import numpy as np"
   ],
   "metadata": {
    "cell_id": "468fecbce50a427d8a7b786ca862ab50",
    "source_hash": "67275d9a",
    "execution_start": 1681135868805,
    "execution_millis": 3427,
    "deepnote_to_be_reexecuted": false,
    "deepnote_cell_type": "code",
    "ExecuteTime": {
     "start_time": "2023-04-10T16:34:59.025205Z",
     "end_time": "2023-04-10T16:34:59.027242Z"
    }
   },
   "outputs": [],
   "execution_count": 21
  },
  {
   "cell_type": "code",
   "source": [
    "# Define transformations to be applied to the data\n",
    "transform = transforms.Compose([\n",
    "    transforms.ToTensor(),\n",
    "    transforms.Normalize((0.5,), (0.5,))\n",
    "])\n",
    "\n",
    "# Load the MNIST dataset\n",
    "train_set = datasets.MNIST(root='./data', train=True, download=True, transform=transform)\n",
    "test_set = datasets.MNIST(root='./data', train=False, download=True, transform=transform)\n",
    "\n",
    "# Extract the data and labels from the datasets\n",
    "X_train, y_train = train_set.data.numpy(), train_set.targets.numpy()\n",
    "X_test, y_test = test_set.data.numpy(), test_set.targets.numpy()\n",
    "\n",
    "# Reshape the data to be of size [N x 784]\n",
    "X_train = X_train.reshape(X_train.shape[0], -1)\n",
    "X_test = X_test.reshape(X_test.shape[0], -1)\n",
    "\n",
    "# Normalize the data to be between 0 and 1\n",
    "X_train = X_train / 255.0\n",
    "X_test = X_test / 255.0\n",
    "\n",
    "X_train.shape, X_test.shape, y_train.shape, y_test.shape"
   ],
   "metadata": {
    "cell_id": "0fecb0b1800043e3a1250913da797bf4",
    "source_hash": "1a2432ae",
    "execution_start": 1681135872234,
    "execution_millis": 239,
    "deepnote_to_be_reexecuted": false,
    "deepnote_cell_type": "code",
    "ExecuteTime": {
     "start_time": "2023-04-10T16:34:59.028883Z",
     "end_time": "2023-04-10T16:34:59.168041Z"
    }
   },
   "outputs": [
    {
     "data": {
      "text/plain": "((60000, 784), (10000, 784), (60000,), (10000,))"
     },
     "execution_count": 22,
     "metadata": {},
     "output_type": "execute_result"
    }
   ],
   "execution_count": 22
  },
  {
   "cell_type": "code",
   "source": [
    "classes = np.unique(y_train)\n",
    "\n",
    "# Plot the images\n",
    "fig, axes = plt.subplots(2, 5, figsize=(10, 5))\n",
    "for i, ax in enumerate(axes.flat):\n",
    "    ax.imshow(X_train[y_train == classes[i]][0].reshape(28, 28), cmap='gray')\n",
    "    ax.set_title(f\"Class: {classes[i]}\")\n",
    "    ax.axis('off')\n",
    "\n",
    "plt.show()"
   ],
   "metadata": {
    "cell_id": "ff06bc90624546429e5b7ac7a67bda54",
    "source_hash": "9230fd10",
    "execution_start": 1681135872477,
    "execution_millis": 506,
    "deepnote_to_be_reexecuted": false,
    "deepnote_cell_type": "code",
    "ExecuteTime": {
     "start_time": "2023-04-10T16:34:59.168488Z",
     "end_time": "2023-04-10T16:34:59.531688Z"
    }
   },
   "outputs": [
    {
     "data": {
      "text/plain": "<Figure size 1000x500 with 10 Axes>",
      "image/png": "[encoded data removed]"
     },
     "metadata": {},
     "output_type": "display_data"
    }
   ],
   "execution_count": 23
  },
  {
   "cell_type": "code",
   "source": [
    "print('Number of training examples: ', X_train.shape[0])\n",
    "print('Number of testing examples: ', X_test.shape[0])\n",
    "print('Each image is of size: ', X_train.shape[1])\n",
    "print('There are {} classes: {}'.format(len(classes), classes))\n",
    "print('The data is of type: ', X_train.dtype)\n",
    "print('The labels are of type: ', y_train.dtype)\n",
    "print('The range of the pixel values is [{}, {}]'.format(np.min(X_train), np.max(X_train)))"
   ],
   "metadata": {
    "cell_id": "39f3978bc7ff48518ce63346d1716fd3",
    "source_hash": "d82631cb",
    "execution_start": 1681135873020,
    "execution_millis": 104,
    "deepnote_to_be_reexecuted": false,
    "deepnote_cell_type": "code",
    "ExecuteTime": {
     "start_time": "2023-04-10T16:34:59.484990Z",
     "end_time": "2023-04-10T16:34:59.531965Z"
    }
   },
   "outputs": [
    {
     "name": "stdout",
     "output_type": "stream",
     "text": [
      "Number of training examples:  60000\n",
      "Number of testing examples:  10000\n",
      "Each image is of size:  784\n",
      "There are 10 classes: [0 1 2 3 4 5 6 7 8 9]\n",
      "The data is of type:  float64\n",
      "The labels are of type:  int64\n",
      "The range of the pixel values is [0.0, 1.0]\n"
     ]
    }
   ],
   "execution_count": 24
  },
  {
   "cell_type": "code",
   "source": [
    "class LinearLayer():\n",
    "    def __init__(self, input_size, output_size):\n",
    "        self.input_size = input_size\n",
    "        self.output_size = output_size\n",
    "        self.weights = np.random.randn(input_size, output_size) * 0.01\n",
    "        self.bias = np.zeros((1, output_size))\n",
    "\n",
    "    def forward(self, x):\n",
    "        self.x = x\n",
    "        return np.dot(x, self.weights) + self.bias\n",
    "\n",
    "    def backward(self, grad_output):\n",
    "        self.weights_grad = np.dot(self.x.T, grad_output)\n",
    "        self.bias_grad = np.sum(grad_output, axis=0, keepdims=True)\n",
    "        return np.dot(grad_output, self.weights.T)\n",
    "\n",
    "    def update(self, lr):\n",
    "        self.weights -= lr * self.weights_grad\n",
    "        self.bias -= lr * self.bias_grad"
   ],
   "metadata": {
    "cell_id": "9b9df28b90b843ba8967a3916b624e5a",
    "source_hash": "abcefd1b",
    "execution_start": 1681135873116,
    "execution_millis": 8,
    "deepnote_to_be_reexecuted": false,
    "deepnote_cell_type": "code",
    "ExecuteTime": {
     "start_time": "2023-04-10T16:34:59.502315Z",
     "end_time": "2023-04-10T16:34:59.532012Z"
    }
   },
   "outputs": [],
   "execution_count": 25
  },
  {
   "cell_type": "code",
   "source": [
    "import unittest\n",
    "\n",
    "class TestLinearLayer(unittest.TestCase):\n",
    "    def setUp(self):\n",
    "        self.input_size = 10\n",
    "        self.output_size = 5\n",
    "        self.linear_layer = LinearLayer(self.input_size, self.output_size)\n",
    "\n",
    "    def test_forward(self):\n",
    "        x = np.random.randn(1, self.input_size)\n",
    "        output = self.linear_layer.forward(x)\n",
    "        self.assertEqual(output.shape, (1, self.output_size))\n",
    "\n",
    "    def test_backward(self):\n",
    "        x = np.random.randn(1, self.input_size)\n",
    "        output = self.linear_layer.forward(x)\n",
    "        grad_output = np.random.randn(1, self.output_size)\n",
    "        grad_input = self.linear_layer.backward(grad_output)\n",
    "        self.assertEqual(grad_input.shape, (1, self.input_size))\n",
    "\n",
    "unittest.main(argv=[''], verbosity=2, exit=False)"
   ],
   "metadata": {
    "cell_id": "2a57fef326da4ea6b9a052ca2dc263a6",
    "source_hash": "89fe3fa4",
    "execution_start": 1681135873116,
    "execution_millis": 20,
    "deepnote_to_be_reexecuted": false,
    "deepnote_cell_type": "code",
    "ExecuteTime": {
     "start_time": "2023-04-10T16:34:59.506533Z",
     "end_time": "2023-04-10T16:34:59.532292Z"
    }
   },
   "outputs": [
    {
     "name": "stderr",
     "output_type": "stream",
     "text": [
      "test_backward (__main__.TestLinearLayer.test_backward) ... ok\n",
      "test_forward (__main__.TestLinearLayer.test_forward) ... ok\n",
      "\n",
      "----------------------------------------------------------------------\n",
      "Ran 2 tests in 0.001s\n",
      "\n",
      "OK\n"
     ]
    },
    {
     "data": {
      "text/plain": "<unittest.main.TestProgram at 0x15f305510>"
     },
     "execution_count": 26,
     "metadata": {},
     "output_type": "execute_result"
    }
   ],
   "execution_count": 26
  },
  {
   "cell_type": "code",
   "source": [
    "# Helper functions\n",
    "def relu(x):\n",
    "    return np.maximum(0, x)\n",
    "\n",
    "def relu_grad(x):\n",
    "    return x > 0\n",
    "\n",
    "def sigmoid(x):\n",
    "    x = np.clip(x, -500, 500) # clip x to prevent overflow\n",
    "    return 1 / (1 + np.exp(-x))\n",
    "\n",
    "def sigmoid_grad(x):\n",
    "    return sigmoid(x) * (1 - sigmoid(x))"
   ],
   "metadata": {
    "cell_id": "4f53c7af68324344ac59f76df925c83d",
    "source_hash": "51a7f5de",
    "execution_start": 1681135873116,
    "execution_millis": 20,
    "deepnote_to_be_reexecuted": false,
    "deepnote_cell_type": "code",
    "ExecuteTime": {
     "start_time": "2023-04-10T16:34:59.513311Z",
     "end_time": "2023-04-10T16:34:59.532332Z"
    }
   },
   "outputs": [],
   "execution_count": 27
  },
  {
   "cell_type": "code",
   "source": [
    "def mse(y_pred, y_true):\n",
    "    batch_size = y_pred.shape[0]\n",
    "    loss = np.sum((y_pred - y_true)**2) / batch_size\n",
    "    return loss\n",
    "\n",
    "def mse_grad(y_pred, y_true):\n",
    "    batch_size = y_pred.shape[0]\n",
    "    grad = 2 * (y_pred - y_true) / batch_size\n",
    "    return grad\n",
    "\n",
    "def binary_cross_entropy(y_pred, y_true):\n",
    "    eps = 1e-15\n",
    "    y_pred = np.clip(y_pred, eps, 1-eps) # clip y_pred to prevent log(0) or log(1)\n",
    "    loss = -(y_true * np.log(y_pred) + (1 - y_true) * np.log(1 - y_pred)).mean()\n",
    "    return loss\n",
    "\n",
    "def binary_cross_entropy_grad(y_pred, y_true):\n",
    "    eps = 1e-15\n",
    "    y_pred = np.clip(y_pred, eps, 1-eps) # clip y_pred to prevent division by 0\n",
    "    grad = (y_pred - y_true) / (y_pred * (1 - y_pred) + eps) # add eps to prevent division by 0\n",
    "    return grad"
   ],
   "metadata": {
    "cell_id": "86e3fbf058b84ac5b77b4a14dc9ba199",
    "source_hash": "685d0d1d",
    "execution_start": 1681135873117,
    "execution_millis": 20,
    "deepnote_to_be_reexecuted": false,
    "deepnote_cell_type": "code",
    "ExecuteTime": {
     "start_time": "2023-04-10T16:34:59.517129Z",
     "end_time": "2023-04-10T16:34:59.532406Z"
    }
   },
   "outputs": [],
   "execution_count": 28
  },
  {
   "cell_type": "code",
   "source": [
    "class SingleLayerNetwork():\n",
    "    def __init__(self, input_size, hidden_size, output_size):\n",
    "        self.input_size = input_size\n",
    "        self.hidden_size = hidden_size\n",
    "        self.output_size = output_size\n",
    "        self.linear1 = LinearLayer(input_size, hidden_size)\n",
    "        self.linear2 = LinearLayer(hidden_size, output_size)\n",
    "\n",
    "    def forward(self, x):\n",
    "        self.x = x\n",
    "        self.h = relu(self.linear1.forward(x))\n",
    "        self.y_pred = sigmoid(self.linear2.forward(self.h))\n",
    "        return self.y_pred\n",
    "\n",
    "\n",
    "    def backward(self, y_true):\n",
    "        y_true = y_true.reshape(-1, 1)\n",
    "        self.y_pred = self.y_pred.reshape(-1, 1)\n",
    "\n",
    "        grad_output = binary_cross_entropy_grad(self.y_pred, y_true)\n",
    "\n",
    "        grad_output = sigmoid_grad(grad_output) * grad_output\n",
    "        grad_output = self.linear2.backward(grad_output)\n",
    "\n",
    "        grad_output = relu_grad(grad_output) * grad_output\n",
    "        grad_output = self.linear1.backward(grad_output)\n",
    "\n",
    "        return grad_output\n",
    "\n",
    "    def update(self, lr):\n",
    "        self.linear1.update(lr)\n",
    "        self.linear2.update(lr)\n",
    "\n",
    "    def train(self, X, y, lr, epochs, batch_size, threshold=0.5):\n",
    "        for epoch in range(epochs):\n",
    "            loss_list = []\n",
    "            for i in range(0, len(X), batch_size):\n",
    "                batch = np.random.choice(len(X), batch_size)\n",
    "                X_batch = X[batch]\n",
    "                y_batch = y[batch]\n",
    "\n",
    "                y_pred = self.forward(X_batch)\n",
    "\n",
    "                loss = binary_cross_entropy(y_pred, y_batch)\n",
    "                loss_list.append(loss)\n",
    "\n",
    "                self.backward(y_batch)\n",
    "                self.update(lr)\n",
    "\n",
    "            accuracy = self.evaluate(X, y, threshold)\n",
    "            loss = np.mean(loss_list)\n",
    "            print(f\"Epoch {epoch+1} - Loss: {loss:.4f} - Accuracy: {accuracy:.4f}\")\n",
    "\n",
    "    def predict(self, X, threshold=0.5):\n",
    "        y_pred = self.forward(X)\n",
    "        return (y_pred > threshold).astype(int)\n",
    "\n",
    "    def evaluate(self, X, y, threshold=0.5):\n",
    "        y_pred = self.forward(X)\n",
    "        y_pred_binary = (y_pred > threshold).astype(int)\n",
    "        accuracy = np.mean(y_pred_binary == y.reshape(-1, 1))\n",
    "        return accuracy\n"
   ],
   "metadata": {
    "cell_id": "50e7f412808e416ab80060a4bc11d9c2",
    "source_hash": "acbaa1b0",
    "execution_start": 1681135873118,
    "execution_millis": 19,
    "deepnote_to_be_reexecuted": false,
    "deepnote_cell_type": "code",
    "ExecuteTime": {
     "start_time": "2023-04-10T16:34:59.522530Z",
     "end_time": "2023-04-10T16:34:59.532515Z"
    }
   },
   "outputs": [],
   "execution_count": 29
  },
  {
   "cell_type": "code",
   "execution_count": 30,
   "outputs": [
    {
     "name": "stdout",
     "output_type": "stream",
     "text": [
      "4s: 5842 - Not 4s: 5842\n",
      "4s: 5842 - Not 4s: 5842\n"
     ]
    }
   ],
   "source": [
    "y_train_4_binary = (y_train == 4).astype(int)\n",
    "y_test_4_binary = (y_test == 4).astype(int)\n",
    "\n",
    "# use a train set with only 4s\n",
    "X_train_4_only = X_train[y_train == 4]\n",
    "y_train_4_only = y_train[y_train == 4]\n",
    "\n",
    "y_train_4_only_binary = (y_train_4_only == 4).astype(int)\n",
    "\n",
    "# Test 4s only\n",
    "X_test_4_only = X_test[y_test == 4]\n",
    "y_test_4_only = y_test[y_test == 4]\n",
    "\n",
    "y_test_4_only_binary = (y_test_4_only == 4).astype(int)\n",
    "\n",
    "# Not 4s\n",
    "X_train_not_4 = X_train[y_train != 4]\n",
    "y_train_not_4 = y_train[y_train != 4]\n",
    "\n",
    "X_test_not_4 = X_test[y_test != 4]\n",
    "y_test_not_4 = y_test[y_test != 4]\n",
    "\n",
    "# mixed train set 50% 4s and 50% not 4s\n",
    "X_train_not_4 = X_train_not_4[:len(X_train_4_only)]\n",
    "y_train_not_4 = y_train_not_4[:len(y_train_4_only)]\n",
    "\n",
    "X_test_not_4 = X_test_not_4[:len(X_test_4_only)]\n",
    "y_test_not_4 = y_test_not_4[:len(y_test_4_only)]\n",
    "\n",
    "# Train for mixed train set\n",
    "X_train_mix = np.concatenate((X_train_4_only, X_train_not_4))\n",
    "y_train_mix = np.concatenate((y_train_4_only, y_train_not_4))\n",
    "\n",
    "# Test for mixed train set\n",
    "X_test_mix = np.concatenate((X_test_4_only, X_test_not_4))\n",
    "y_test_mix = np.concatenate((y_test_4_only, y_test_not_4))\n",
    "\n",
    "y_train_mix_binary = (y_train_mix == 4).astype(int)\n",
    "y_test_mix_binary = (y_test_mix == 4).astype(int)\n",
    "\n",
    "\n",
    "# print count of 4s and not 4s in the train set\n",
    "print(f\"4s: {np.sum(y_train_mix_binary == 1)} - Not 4s: {np.sum(y_train_mix_binary == 0)}\")\n"
   ],
   "metadata": {
    "collapsed": false,
    "ExecuteTime": {
     "start_time": "2023-04-10T16:34:59.023452Z",
     "end_time": "2023-04-10T16:34:59.802387Z"
    }
   }
  },
  {
   "cell_type": "code",
   "execution_count": 31,
   "outputs": [
    {
     "name": "stdout",
     "output_type": "stream",
     "text": [
      "Epoch 1 - Loss: 0.6932 - Accuracy: 0.5244\n",
      "Epoch 2 - Loss: 0.6931 - Accuracy: 0.5244\n",
      "Epoch 3 - Loss: 0.6931 - Accuracy: 0.5244\n",
      "Epoch 4 - Loss: 0.6932 - Accuracy: 0.5244\n",
      "Epoch 5 - Loss: 0.6932 - Accuracy: 0.5244\n",
      "Epoch 6 - Loss: 0.6931 - Accuracy: 0.5244\n",
      "Epoch 7 - Loss: 0.6931 - Accuracy: 0.5245\n",
      "Epoch 8 - Loss: 0.6932 - Accuracy: 0.5246\n",
      "Epoch 9 - Loss: 0.6932 - Accuracy: 0.5246\n",
      "Epoch 10 - Loss: 0.6932 - Accuracy: 0.5247\n"
     ]
    }
   ],
   "source": [
    "# Train the network on the mixed train set\n",
    "network_single_mixed = SingleLayerNetwork(input_size=784, hidden_size=256, output_size=1)\n",
    "network_single_mixed.train(X_train_mix, y_train_mix_binary, lr=0.00000001, epochs=10, batch_size=20, threshold=0.5)"
   ],
   "metadata": {
    "collapsed": false,
    "ExecuteTime": {
     "start_time": "2023-04-10T16:34:59.802503Z",
     "end_time": "2023-04-10T16:35:41.520284Z"
    }
   }
  },
  {
   "cell_type": "code",
   "source": [
    "\n",
    "# Train the network on the normal train set\n",
    "network_single_normal = SingleLayerNetwork(input_size=784, hidden_size=256, output_size=1)\n",
    "network_single_normal.train(X_train, y_train_4_binary, lr=0.00000001, epochs=10, batch_size=20, threshold=0.5)"
   ],
   "metadata": {
    "cell_id": "2b2065ca6e6047e6b472f2631ce6fc61",
    "source_hash": "48f074c8",
    "execution_start": 1681135880285,
    "execution_millis": 128837,
    "deepnote_to_be_reexecuted": false,
    "deepnote_cell_type": "code",
    "ExecuteTime": {
     "start_time": "2023-04-10T16:35:41.540447Z",
     "end_time": "2023-04-10T16:39:41.997162Z"
    }
   },
   "outputs": [
    {
     "name": "stdout",
     "output_type": "stream",
     "text": [
      "Epoch 1 - Loss: 0.6898 - Accuracy: 0.8210\n",
      "Epoch 2 - Loss: 0.6897 - Accuracy: 0.8252\n",
      "Epoch 3 - Loss: 0.6896 - Accuracy: 0.8291\n",
      "Epoch 4 - Loss: 0.6896 - Accuracy: 0.8319\n",
      "Epoch 5 - Loss: 0.6895 - Accuracy: 0.8354\n",
      "Epoch 6 - Loss: 0.6894 - Accuracy: 0.8387\n",
      "Epoch 7 - Loss: 0.6893 - Accuracy: 0.8422\n",
      "Epoch 8 - Loss: 0.6892 - Accuracy: 0.8455\n",
      "Epoch 9 - Loss: 0.6892 - Accuracy: 0.8484\n",
      "Epoch 10 - Loss: 0.6891 - Accuracy: 0.8509\n"
     ]
    }
   ],
   "execution_count": 32
  },
  {
   "cell_type": "code",
   "source": [
    "# test 4s only\n",
    "network_single_four = SingleLayerNetwork(input_size=784, hidden_size=256, output_size=1)\n",
    "network_single_four.train(X_test, y_train_4_binary, lr=0.00000001, epochs=10, batch_size=20, threshold=0.5)"
   ],
   "metadata": {
    "cell_id": "f5f08c678af94e6b84313ca7f42c249c",
    "deepnote_cell_type": "code",
    "ExecuteTime": {
     "start_time": "2023-04-10T16:39:41.980759Z",
     "end_time": "2023-04-10T16:41:02.319376Z"
    }
   },
   "outputs": [
    {
     "name": "stderr",
     "output_type": "stream",
     "text": [
      "/var/folders/ly/70s8v1715rqgjcyrtxjv58z80000gn/T/ipykernel_10395/1018912025.py:61: DeprecationWarning: elementwise comparison failed; this will raise an error in the future.\n",
      "  accuracy = np.mean(y_pred_binary == y.reshape(-1, 1))\n"
     ]
    },
    {
     "name": "stdout",
     "output_type": "stream",
     "text": [
      "Epoch 1 - Loss: 0.6917 - Accuracy: 0.0000\n",
      "Epoch 2 - Loss: 0.6917 - Accuracy: 0.0000\n",
      "Epoch 3 - Loss: 0.6917 - Accuracy: 0.0000\n",
      "Epoch 4 - Loss: 0.6917 - Accuracy: 0.0000\n",
      "Epoch 5 - Loss: 0.6917 - Accuracy: 0.0000\n",
      "Epoch 6 - Loss: 0.6917 - Accuracy: 0.0000\n",
      "Epoch 7 - Loss: 0.6916 - Accuracy: 0.0000\n",
      "Epoch 8 - Loss: 0.6916 - Accuracy: 0.0000\n",
      "Epoch 9 - Loss: 0.6916 - Accuracy: 0.0000\n",
      "Epoch 10 - Loss: 0.6916 - Accuracy: 0.0000\n"
     ]
    }
   ],
   "execution_count": 33
  },
  {
   "cell_type": "code",
   "execution_count": 34,
   "outputs": [
    {
     "name": "stdout",
     "output_type": "stream",
     "text": [
      "Accuracy: 0.8501 - Accuracy 4s only: 0.1904 - Accuracy mixed: 0.0000\n"
     ]
    },
    {
     "name": "stderr",
     "output_type": "stream",
     "text": [
      "/var/folders/ly/70s8v1715rqgjcyrtxjv58z80000gn/T/ipykernel_10395/1018912025.py:61: DeprecationWarning: elementwise comparison failed; this will raise an error in the future.\n",
      "  accuracy = np.mean(y_pred_binary == y.reshape(-1, 1))\n"
     ]
    }
   ],
   "source": [
    "# test the network\n",
    "accuracy = network_single_normal.evaluate(X_test, y_test_4_binary, 0.5)\n",
    "accuracy_4 = network_single_four.evaluate(X_test_4_only, y_test_4_only_binary, 0.5)\n",
    "accuracy_mix = network_single_mixed.evaluate(X_test, y_test_mix_binary , 0.5)\n",
    "\n",
    "print(f\"Accuracy: {accuracy:.4f} - Accuracy 4s only: {accuracy_4:.4f} - Accuracy mixed: {accuracy_mix:.4f}\")"
   ],
   "metadata": {
    "collapsed": false,
    "ExecuteTime": {
     "start_time": "2023-04-10T16:41:02.153983Z",
     "end_time": "2023-04-10T16:41:02.319970Z"
    }
   }
  },
  {
   "cell_type": "code",
   "source": [
    "# # BRUTE FORCE TESTING FOR IDEAL SETTINGS\n",
    "# import time\n",
    "#\n",
    "# epochs = [1, 2, 5, 10, 20, 50, 100]\n",
    "# batch_sizes = [32, 64, 128, 256, 512, 1024]\n",
    "# learning_rates = [10**-i for i in range(1, 5)]\n",
    "# hidden_sizes = [32, 64, 128, 256, 512, 1024]\n",
    "#\n",
    "# combinations = [(e, b, l, h) for e in epochs for b in batch_sizes for l in learning_rates for h in hidden_sizes]\n",
    "# results = []\n",
    "#\n",
    "# for e, b, l, h in combinations:\n",
    "#     network = SingleLayerNetwork(input_size=784, hidden_size=h, output_size=1)\n",
    "#\n",
    "#     start = time.time()\n",
    "#     network.train(X_train, y_train_4, lr=l, epochs=e, batch_size=b)\n",
    "#     accuracy = network.evaluate(X_test, y_test_4)\n",
    "#     end = time.time()\n",
    "#\n",
    "#     # save the results\n",
    "#     results.append((e, b, l, h, accuracy, end-start))\n",
    "#     print(f\"Epochs: {e} - Batch size: {b} - Learning rate: {l} - Hidden size: {h} - Accuracy: {accuracy:.4f}\")"
   ],
   "metadata": {
    "cell_id": "430713af7e03462b9a168b8d6f1feb04",
    "source_hash": "530c29ee",
    "execution_start": 1681136009123,
    "execution_millis": 153758,
    "deepnote_to_be_reexecuted": false,
    "deepnote_cell_type": "code",
    "ExecuteTime": {
     "start_time": "2023-04-10T16:41:02.154130Z",
     "end_time": "2023-04-10T16:41:02.320020Z"
    }
   },
   "outputs": [],
   "execution_count": 35
  },
  {
   "cell_type": "code",
   "source": [
    "def cross_entropy(y_pred, y_true):\n",
    "    eps = 1e-15\n",
    "    y_pred = np.clip(y_pred, eps, 1-eps) # clip y_pred to prevent log(0) or log(1)\n",
    "    loss = -(y_true * np.log(y_pred)).sum(axis=1).mean()\n",
    "    return loss\n",
    "\n",
    "def cross_entropy_grad(y_pred, y_true):\n",
    "    eps = 1e-15\n",
    "    y_pred = np.clip(y_pred, eps, 1-eps) # clip y_pred to prevent division by 0\n",
    "    grad = y_pred - y_true\n",
    "    return grad\n",
    "\n",
    "def softmax(x):\n",
    "    x = x - np.max(x, axis=1, keepdims=True) # prevent overflow\n",
    "    x = np.exp(x)\n",
    "    x = x / np.sum(x, axis=1, keepdims=True)\n",
    "    return x\n",
    "\n",
    "def softmax_grad(x):\n",
    "    return softmax(x) * (1 - softmax(x))\n",
    "\n",
    "def one_hot_encode(y):\n",
    "    y_one_hot = np.zeros((len(y), 10))\n",
    "    y_one_hot[np.arange(len(y)), y] = 1\n",
    "    return y_one_hot"
   ],
   "metadata": {
    "cell_id": "04209c44ff3640d39b2f0929060e0662",
    "source_hash": "7be4713b",
    "execution_start": 1681136171898,
    "execution_millis": 8,
    "deepnote_to_be_reexecuted": false,
    "deepnote_cell_type": "code",
    "ExecuteTime": {
     "start_time": "2023-04-10T16:41:02.154451Z",
     "end_time": "2023-04-10T16:41:02.320056Z"
    }
   },
   "outputs": [],
   "execution_count": 36
  },
  {
   "cell_type": "markdown",
   "source": [
    "### Gradient of the Cross-Entropy loss function\n",
    "The reason why the `cross_entropy_grad` function uses the difference between the predicted probabilities and the true labels, instead of the negative of the gradient of the cross-entropy loss with respect to the predicted probabilities, is that they are equivalent up to a constant factor.\n",
    "\n",
    "Let's first consider the gradient of the cross-entropy loss with respect to the predicted logits, denoted as $\\mathbf{z}$. The logits are related to the predicted probabilities via the softmax function:\n",
    "\n",
    "$$\n",
    "y_{i} = \\frac{e^{z_{i}}}{\\sum_{j} e^{z_{j}}}\n",
    "$$\n",
    "\n",
    "Taking the partial derivative of $\\mathcal{L}$ with respect to $z_{j}$, we have:\n",
    "\n",
    "$$\n",
    "\\frac{\\partial \\mathcal{L}}{\\partial z_{j}} = \\sum_{i} \\frac{\\partial \\mathcal{L}}{\\partial y_{i}} \\frac{\\partial y_{i}}{\\partial z_{j}}\n",
    "$$\n",
    "\n",
    "Using the chain rule, we have:\n",
    "\n",
    "$$\n",
    "\\frac{\\partial y_{i}}{\\partial z_{j}} = y_{i} (\\delta_{ij} - y_{j})\n",
    "$$\n",
    "\n",
    "where $\\delta_{ij}$ is the Kronecker delta function that is equal to 1 if $i = j$ and 0 otherwise. Substituting this expression into the above equation, we obtain:\n",
    "\n",
    "$$\n",
    "\\frac{\\partial \\mathcal{L}}{\\partial z_{j}} = \\sum_{i} (\\delta_{ij} - y_{j}) t_{i}\n",
    "$$\n",
    "\n",
    "This expression is equivalent to the difference between the predicted probabilities and the true labels. To see this, note that the predicted probabilities can be written as:\n",
    "\n",
    "$$\n",
    "y_{j} = \\frac{e^{z_{j}}}{\\sum_{k} e^{z_{k}}}\n",
    "$$\n",
    "\n",
    "Taking the derivative of $y_{j}$ with respect to $z_{j}$, we have:\n",
    "\n",
    "$$\n",
    "\\frac{\\partial y_{j}}{\\partial z_{j}} = y_{j} (1 - y_{j})\n",
    "$$\n",
    "\n",
    "Substituting this expression into the gradient expression, we obtain:\n",
    "\n",
    "$$\n",
    "\\frac{\\partial \\mathcal{L}}{\\partial z_{j}} = y_{j} - t_{j}\n",
    "$$\n",
    "\n",
    "which is the difference between the predicted probabilities and the true labels. Thus, the `cross_entropy_grad` function is equivalent to the negative of the gradient of the cross-entropy loss with respect to the predicted probabilities, up to a constant factor.\n",
    "\n"
   ],
   "metadata": {
    "cell_id": "a024c14f11024cf0be1e3ae7a3bf7640",
    "deepnote_cell_type": "markdown"
   }
  },
  {
   "cell_type": "code",
   "source": [
    "class MultiLayerNetwork:\n",
    "    def __init__(self, input_size, hidden_size, output_size):\n",
    "        self.input_size = input_size\n",
    "        self.hidden_size = hidden_size\n",
    "        self.output_size = output_size\n",
    "        self.input_layer = LinearLayer(input_size, hidden_size)\n",
    "        self.hidden_layer1 = LinearLayer(hidden_size, hidden_size)\n",
    "        self.hidden_layer2 = LinearLayer(hidden_size, hidden_size)\n",
    "        self.output_layer = LinearLayer(hidden_size, output_size)\n",
    "\n",
    "    def forward(self, x):\n",
    "        self.input_data = x\n",
    "        self.hidden_output1 = relu(self.input_layer.forward(x))\n",
    "        self.hidden_output2 = relu(self.hidden_layer1.forward(self.hidden_output1))\n",
    "        self.hidden_output3 = relu(self.hidden_layer2.forward(self.hidden_output2))\n",
    "        self.predicted_output = softmax(self.output_layer.forward(self.hidden_output3))\n",
    "        return self.predicted_output\n",
    "\n",
    "    def backward(self, y_true):\n",
    "        gradient_output = cross_entropy_grad(self.predicted_output, y_true)\n",
    "\n",
    "        gradient_output = softmax_grad(self.predicted_output) * gradient_output\n",
    "        gradient_output = self.output_layer.backward(gradient_output)\n",
    "\n",
    "        gradient_output = relu_grad(self.hidden_output3) * gradient_output\n",
    "        gradient_output = self.hidden_layer2.backward(gradient_output)\n",
    "\n",
    "        gradient_output = relu_grad(self.hidden_output2) * gradient_output\n",
    "        gradient_output = self.hidden_layer1.backward(gradient_output)\n",
    "\n",
    "        gradient_output = relu_grad(self.hidden_output1) * gradient_output\n",
    "        gradient_output = self.input_layer.backward(gradient_output)\n",
    "\n",
    "        return gradient_output\n",
    "\n",
    "    def update(self, learning_rate):\n",
    "        self.input_layer.update(learning_rate)\n",
    "        self.hidden_layer1.update(learning_rate)\n",
    "        self.hidden_layer2.update(learning_rate)\n",
    "        self.output_layer.update(learning_rate)\n",
    "\n",
    "    def train(self, X, y, learning_rate, epochs, batch_size):\n",
    "        for epoch in range(epochs):\n",
    "            loss_list = []\n",
    "            for i in range(0, len(X), batch_size):\n",
    "                batch_indices = np.random.choice(len(X), batch_size)\n",
    "                X_batch = X[batch_indices]\n",
    "                y_batch = y[batch_indices]\n",
    "\n",
    "                predicted_output = self.forward(X_batch)\n",
    "\n",
    "                loss = cross_entropy(predicted_output, y_batch)\n",
    "                loss_list.append(loss)\n",
    "\n",
    "                self.backward(y_batch)\n",
    "                self.update(learning_rate)\n",
    "\n",
    "            accuracy = self.evaluate(X, y)\n",
    "            average_loss = np.mean(loss_list)\n",
    "            print(f\"Epoch {epoch+1} - Loss: {average_loss:.4f} - Accuracy: {accuracy:.4f}\")\n",
    "\n",
    "    def predict(self, X):\n",
    "        predicted_output = self.forward(X)\n",
    "        return np.argmax(predicted_output, axis=1)\n",
    "\n",
    "    def evaluate(self, X, y):\n",
    "        predicted_classes = self.predict(X)\n",
    "        true_classes = np.argmax(y, axis=1)\n",
    "        return np.mean(predicted_classes == true_classes)"
   ],
   "metadata": {
    "cell_id": "35a5f99b75d14620ac36d8e1e7bd7673",
    "source_hash": "de349e91",
    "execution_start": 1681136174561,
    "execution_millis": 3,
    "deepnote_to_be_reexecuted": false,
    "deepnote_cell_type": "code",
    "ExecuteTime": {
     "start_time": "2023-04-10T16:41:02.154747Z",
     "end_time": "2023-04-10T16:41:02.320088Z"
    }
   },
   "outputs": [],
   "execution_count": 37
  },
  {
   "cell_type": "code",
   "source": [
    "# train the network\n",
    "network_single_normal = MultiLayerNetwork(input_size=784, hidden_size=256, output_size=10)\n",
    "\n",
    "# one hot encode the labels\n",
    "y_train_one_hot = one_hot_encode(y_train)\n",
    "network_single_normal.train(X_train, y_train_one_hot, learning_rate=0.01, epochs=10, batch_size=46)\n",
    "\n"
   ],
   "metadata": {
    "cell_id": "5247791265c44336bae85362d294c3ed",
    "source_hash": "805c8c0c",
    "execution_start": 1681136178484,
    "execution_millis": 210293,
    "deepnote_to_be_reexecuted": false,
    "deepnote_cell_type": "code",
    "ExecuteTime": {
     "start_time": "2023-04-10T16:41:02.154802Z",
     "end_time": "2023-04-10T16:43:57.487217Z"
    }
   },
   "outputs": [
    {
     "name": "stdout",
     "output_type": "stream",
     "text": [
      "Epoch 1 - Loss: 2.3009 - Accuracy: 0.1124\n",
      "Epoch 2 - Loss: 1.8834 - Accuracy: 0.6300\n",
      "Epoch 3 - Loss: 0.4870 - Accuracy: 0.7504\n",
      "Epoch 4 - Loss: 0.2505 - Accuracy: 0.9509\n",
      "Epoch 5 - Loss: 0.1679 - Accuracy: 0.9573\n",
      "Epoch 6 - Loss: 0.1275 - Accuracy: 0.9650\n",
      "Epoch 7 - Loss: 0.1046 - Accuracy: 0.9729\n",
      "Epoch 8 - Loss: 0.0848 - Accuracy: 0.9805\n",
      "Epoch 9 - Loss: 0.0735 - Accuracy: 0.9820\n",
      "Epoch 10 - Loss: 0.0607 - Accuracy: 0.9814\n"
     ]
    }
   ],
   "execution_count": 38
  },
  {
   "cell_type": "code",
   "source": [
    "# evaluate the network on the test set\n",
    "print(f\"Accuracy: {network_single_normal.evaluate(X_test, one_hot_encode(y_test)):.4f}\")"
   ],
   "metadata": {
    "cell_id": "9efbee3bb88d40daa9acc4e81563f2f9",
    "source_hash": "90099f50",
    "execution_start": 1681136388777,
    "execution_millis": 304,
    "deepnote_to_be_reexecuted": false,
    "deepnote_cell_type": "code",
    "ExecuteTime": {
     "start_time": "2023-04-10T16:43:57.492708Z",
     "end_time": "2023-04-10T16:43:57.716061Z"
    }
   },
   "outputs": [
    {
     "name": "stdout",
     "output_type": "stream",
     "text": [
      "Accuracy: 0.9668\n"
     ]
    }
   ],
   "execution_count": 39
  },
  {
   "cell_type": "code",
   "source": [
    "# plot 10 random images from the test set with their predicted labels\n",
    "fig, axes = plt.subplots(2, 5, figsize=(10, 5))\n",
    "for i, ax in enumerate(axes.flatten()):\n",
    "    idx = np.random.choice(len(X_test))\n",
    "    ax.imshow(X_test[idx].reshape(28, 28), cmap=\"gray\")\n",
    "    ax.set_title(f\"Prediction: {network_single_normal.predict(X_test[idx:idx + 1])[0]}\")\n",
    "    ax.axis(\"off\")\n",
    "plt.show()\n"
   ],
   "metadata": {
    "cell_id": "74d7a70dfb064009b3dc396f6e5c2dc9",
    "source_hash": "a63b85dd",
    "execution_start": 1681136389081,
    "execution_millis": 468,
    "deepnote_to_be_reexecuted": false,
    "deepnote_cell_type": "code",
    "ExecuteTime": {
     "start_time": "2023-04-10T16:34:58.886856Z",
     "end_time": "2023-04-10T16:43:58.174537Z"
    }
   },
   "outputs": [
    {
     "data": {
      "text/plain": "<Figure size 1000x500 with 10 Axes>",
      "image/png": "[encoded data removed]"
     },
     "metadata": {},
     "output_type": "display_data"
    },
    {
     "data": {
      "text/plain": "<Figure size 1000x500 with 10 Axes>",
      "image/png": "[encoded data removed]"
     },
     "metadata": {},
     "output_type": "display_data"
    }
   ],
   "execution_count": 40
  },
  {
   "cell_type": "markdown",
   "source": [
    "<a style='text-decoration:none;line-height:16px;display:flex;color:#5B5B62;padding:10px;justify-content:end;' href='https://deepnote.com?utm_source=created-in-deepnote-cell&projectId=88bc6171-47da-4cbc-96f1-ee851c7ac9ec' target=\"_blank\">\n",
    "<img alt='Created in deepnote.com' style='display:inline;max-height:16px;margin:0px;margin-right:7.5px;' src='data:image/svg+xml;base64,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' > </img>\n",
    "Created in <span style='font-weight:600;margin-left:4px;'>Deepnote</span></a>"
   ],
   "metadata": {
    "created_in_deepnote_cell": true,
    "deepnote_cell_type": "markdown"
   }
  }
 ],
 "nbformat": 4,
 "nbformat_minor": 0,
 "metadata": {
  "deepnote": {},
  "kernelspec": {
   "name": "python3",
   "language": "python",
   "display_name": "venv"
  },
  "language_info": {
   "name": "python",
   "version": "3.11.2",
   "mimetype": "text/x-python",
   "file_extension": ".py",
   "pygments_lexer": "ipython3",
   "codemirror_mode": {
    "name": "ipython",
    "version": 3
   },
   "nbconvert_exporter": "python"
  },
  "orig_nbformat": 4,
  "deepnote_notebook_id": "26c639cf8ac344528705fc24d26c8e7c",
  "deepnote_execution_queue": []
 }
}
